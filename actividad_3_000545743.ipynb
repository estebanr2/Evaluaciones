{
  "nbformat": 4,
  "nbformat_minor": 0,
  "metadata": {
    "colab": {
      "provenance": [],
      "authorship_tag": "ABX9TyORLFl2WHff86jAUkKMmci+",
      "include_colab_link": true
    },
    "kernelspec": {
      "name": "python3",
      "display_name": "Python 3"
    },
    "language_info": {
      "name": "python"
    }
  },
  "cells": [
    {
      "cell_type": "markdown",
      "metadata": {
        "id": "view-in-github",
        "colab_type": "text"
      },
      "source": [
        "<a href=\"https://colab.research.google.com/github/estebanr2/Evaluaciones/blob/main/actividad_3_000545743.ipynb\" target=\"_parent\"><img src=\"https://colab.research.google.com/assets/colab-badge.svg\" alt=\"Open In Colab\"/></a>"
      ]
    },
    {
      "cell_type": "markdown",
      "source": [
        "# Actividad evaluativa 3: Ciclos y Condicionales\n",
        "**Fecha:** _22 de marzo de 2024_\n",
        "\n",
        " **Presentado por:** Esteban Andrés Ruiz Mejía\n",
        "\n",
        " **Email:** esteban.ruizm@upb.edu.co\n"
      ],
      "metadata": {
        "id": "pmzk3zTI9COA"
      }
    },
    {
      "cell_type": "code",
      "source": [
        "import math\n",
        "x = int(input(\"Ingrese la frecuencia de entrada en Hz: \"))\n",
        "AVG = 1000\n",
        "DEV = 300\n",
        "i = 0\n",
        "fdp = 0\n",
        "UMBRAL = 0.3\n",
        "\n",
        "for i in range(x + 1):\n",
        "  fdp += (1 / (DEV * math.sqrt(2 * math.pi))) * math.exp(-1/2* ((i - AVG) / DEV) ** 2)\n",
        "if fdp > UMBRAL:\n",
        "  print(\"La señal pasa el filtro\")\n",
        "else:\n",
        "   print(\"La señal es bloqueada\")"
      ],
      "metadata": {
        "colab": {
          "base_uri": "https://localhost:8080/"
        },
        "id": "feRMU7Jatqml",
        "outputId": "ee6e158c-d103-4ecc-9b14-8c99a7cdd5d1"
      },
      "execution_count": 189,
      "outputs": [
        {
          "output_type": "stream",
          "name": "stdout",
          "text": [
            "Ingrese la frecuencia de entrada en Hz: 843\n",
            "0.30052463985682765\n",
            "La señal pasa el filtro\n"
          ]
        }
      ]
    }
  ]
}